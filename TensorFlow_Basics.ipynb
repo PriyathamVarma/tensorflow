{
  "nbformat": 4,
  "nbformat_minor": 0,
  "metadata": {
    "colab": {
      "name": "TensorFlow-Basics.ipynb",
      "provenance": [],
      "authorship_tag": "ABX9TyN57m2yx5fphqVF39L2zw+O",
      "include_colab_link": true
    },
    "kernelspec": {
      "name": "python3",
      "display_name": "Python 3"
    },
    "language_info": {
      "name": "python"
    }
  },
  "cells": [
    {
      "cell_type": "markdown",
      "metadata": {
        "id": "view-in-github",
        "colab_type": "text"
      },
      "source": [
        "<a href=\"https://colab.research.google.com/github/PriyathamVarma/tensorflow/blob/main/TensorFlow_Basics.ipynb\" target=\"_parent\"><img src=\"https://colab.research.google.com/assets/colab-badge.svg\" alt=\"Open In Colab\"/></a>"
      ]
    },
    {
      "cell_type": "markdown",
      "source": [
        "# This notebook is for tensorflow basics started on 24/12/2021."
      ],
      "metadata": {
        "id": "8Gqh9DMbd6Ns"
      }
    },
    {
      "cell_type": "code",
      "source": [
        "# this is for specifing the exact version\n",
        "%tensorflow_version 1.3.0"
      ],
      "metadata": {
        "colab": {
          "base_uri": "https://localhost:8080/"
        },
        "id": "8lRazutbfD6Z",
        "outputId": "df670b9c-2d50-4330-986c-9a8376be71cb"
      },
      "execution_count": 2,
      "outputs": [
        {
          "output_type": "stream",
          "name": "stdout",
          "text": [
            "`%tensorflow_version` only switches the major version: 1.x or 2.x.\n",
            "You set: `1.3.0`. This will be interpreted as: `1.x`.\n",
            "\n",
            "\n",
            "TensorFlow 1.x selected.\n"
          ]
        }
      ]
    },
    {
      "cell_type": "code",
      "source": [
        "# imports\n",
        "import tensorflow as tf"
      ],
      "metadata": {
        "id": "4n9qIhj2eANQ"
      },
      "execution_count": 3,
      "outputs": []
    },
    {
      "cell_type": "code",
      "source": [
        "# Check the version\n",
        "tf.__version__"
      ],
      "metadata": {
        "colab": {
          "base_uri": "https://localhost:8080/",
          "height": 35
        },
        "id": "TFr7UxgWeJ4P",
        "outputId": "2f604164-3f51-4f61-88f5-1074c3e6aa38"
      },
      "execution_count": 4,
      "outputs": [
        {
          "output_type": "execute_result",
          "data": {
            "application/vnd.google.colaboratory.intrinsic+json": {
              "type": "string"
            },
            "text/plain": [
              "'1.15.2'"
            ]
          },
          "metadata": {},
          "execution_count": 4
        }
      ]
    },
    {
      "cell_type": "code",
      "source": [
        "# Creating a constant in tensorflow\n",
        "some_random_constant = tf.constant(1.0267560347865345673264276597346598763497569378465987346985763489765)"
      ],
      "metadata": {
        "id": "coOnjnjrennm"
      },
      "execution_count": 5,
      "outputs": []
    },
    {
      "cell_type": "code",
      "source": [
        "type(some_random_constant)"
      ],
      "metadata": {
        "colab": {
          "base_uri": "https://localhost:8080/"
        },
        "id": "Fl4odsQRiBWC",
        "outputId": "dbe84b38-07c8-4901-b4ec-6abb330d12dd"
      },
      "execution_count": 6,
      "outputs": [
        {
          "output_type": "execute_result",
          "data": {
            "text/plain": [
              "tensorflow.python.framework.ops.Tensor"
            ]
          },
          "metadata": {},
          "execution_count": 6
        }
      ]
    },
    {
      "cell_type": "code",
      "source": [
        "some_random_constant"
      ],
      "metadata": {
        "colab": {
          "base_uri": "https://localhost:8080/"
        },
        "id": "MkjrBlTSiVMY",
        "outputId": "63d270c0-a9df-4976-b2ac-1d7372d24caf"
      },
      "execution_count": 7,
      "outputs": [
        {
          "output_type": "execute_result",
          "data": {
            "text/plain": [
              "<tf.Tensor 'Const:0' shape=() dtype=float32>"
            ]
          },
          "metadata": {},
          "execution_count": 7
        }
      ]
    },
    {
      "cell_type": "code",
      "source": [
        "# Session\n",
        "tf.Session()"
      ],
      "metadata": {
        "colab": {
          "base_uri": "https://localhost:8080/"
        },
        "id": "KaWLpv4-jg_p",
        "outputId": "e1a46bcd-5c37-4519-d49d-eb55c6f8b3f9"
      },
      "execution_count": 8,
      "outputs": [
        {
          "output_type": "execute_result",
          "data": {
            "text/plain": [
              "<tensorflow.python.client.session.Session at 0x7f933189e210>"
            ]
          },
          "metadata": {},
          "execution_count": 8
        }
      ]
    },
    {
      "cell_type": "code",
      "source": [
        "with tf.Session() as sess:\n",
        "  result = sess.run(some_random_constant)"
      ],
      "metadata": {
        "id": "Yg_VGej_jnNn"
      },
      "execution_count": 9,
      "outputs": []
    },
    {
      "cell_type": "code",
      "source": [
        "result"
      ],
      "metadata": {
        "colab": {
          "base_uri": "https://localhost:8080/"
        },
        "id": "QoMQnZcpj1zv",
        "outputId": "17b04e26-2dfd-4fd8-8735-150cc635192a"
      },
      "execution_count": 10,
      "outputs": [
        {
          "output_type": "execute_result",
          "data": {
            "text/plain": [
              "1.026756"
            ]
          },
          "metadata": {},
          "execution_count": 10
        }
      ]
    },
    {
      "cell_type": "markdown",
      "source": [
        "# Mathematical operations"
      ],
      "metadata": {
        "id": "bV-nWNb5k9lh"
      }
    },
    {
      "cell_type": "code",
      "source": [
        "a = tf.constant(1)\n",
        "b = tf.constant(2)"
      ],
      "metadata": {
        "id": "o2ZZcvsvlA04"
      },
      "execution_count": 11,
      "outputs": []
    },
    {
      "cell_type": "code",
      "source": [
        "a + b"
      ],
      "metadata": {
        "colab": {
          "base_uri": "https://localhost:8080/"
        },
        "id": "LOFJ6nkZlE-7",
        "outputId": "bf5f70b1-7043-4d75-b5dc-713b1c51eb43"
      },
      "execution_count": 12,
      "outputs": [
        {
          "output_type": "execute_result",
          "data": {
            "text/plain": [
              "<tf.Tensor 'add:0' shape=() dtype=int32>"
            ]
          },
          "metadata": {},
          "execution_count": 12
        }
      ]
    },
    {
      "cell_type": "code",
      "source": [
        "with tf.Session() as sess:\n",
        "  result_2 = sess.run(a+b)"
      ],
      "metadata": {
        "id": "zFU9G6w9lI_V"
      },
      "execution_count": 13,
      "outputs": []
    },
    {
      "cell_type": "code",
      "source": [
        "result_2"
      ],
      "metadata": {
        "colab": {
          "base_uri": "https://localhost:8080/"
        },
        "id": "tNf7-otflNf-",
        "outputId": "b48c5748-8cf5-4612-904b-4e9e7afef010"
      },
      "execution_count": 14,
      "outputs": [
        {
          "output_type": "execute_result",
          "data": {
            "text/plain": [
              "3"
            ]
          },
          "metadata": {},
          "execution_count": 14
        }
      ]
    },
    {
      "cell_type": "markdown",
      "source": [
        "# Creating matrics"
      ],
      "metadata": {
        "id": "I5g-o0cGl0pq"
      }
    },
    {
      "cell_type": "code",
      "source": [
        "# create a matrix\n",
        "mat = tf.fill((4,4),10) # create a matrix of 4 * 4 with values 10\n",
        "zeros = tf.zeros((4,4)) # create a matrix of 4 * 4 with values 0\n",
        "ones = tf.ones((1,1))   # create a matrix of 1 * 1 with values 1\n",
        "normal = tf.random_normal((4,4),mean=0,stddev=1.0) # create a matrix with 4 * 4 with a normal distribution values"
      ],
      "metadata": {
        "id": "VRDUHfrUlXp5"
      },
      "execution_count": 15,
      "outputs": []
    },
    {
      "cell_type": "code",
      "source": [
        "# operating all\n",
        "my_ops = [mat,zeros,ones,normal]"
      ],
      "metadata": {
        "id": "eu3szMycmlMJ"
      },
      "execution_count": 16,
      "outputs": []
    },
    {
      "cell_type": "code",
      "source": [
        "my_ops"
      ],
      "metadata": {
        "colab": {
          "base_uri": "https://localhost:8080/"
        },
        "id": "_hctmJS9m0S2",
        "outputId": "1bb9a822-0376-4c82-c287-e54232da23db"
      },
      "execution_count": 17,
      "outputs": [
        {
          "output_type": "execute_result",
          "data": {
            "text/plain": [
              "[<tf.Tensor 'Fill:0' shape=(4, 4) dtype=int32>,\n",
              " <tf.Tensor 'zeros:0' shape=(4, 4) dtype=float32>,\n",
              " <tf.Tensor 'ones:0' shape=(1, 1) dtype=float32>,\n",
              " <tf.Tensor 'random_normal:0' shape=(4, 4) dtype=float32>]"
            ]
          },
          "metadata": {},
          "execution_count": 17
        }
      ]
    },
    {
      "cell_type": "code",
      "source": [
        "sess = tf.Session()"
      ],
      "metadata": {
        "id": "xJJIjMKSnLJl"
      },
      "execution_count": 18,
      "outputs": []
    },
    {
      "cell_type": "code",
      "source": [
        "# Loop through all tesnors\n",
        "for ops in my_ops:\n",
        "  print(sess.run(ops))\n",
        "  print(\"\")"
      ],
      "metadata": {
        "colab": {
          "base_uri": "https://localhost:8080/"
        },
        "id": "Zx-MisrVnOJ2",
        "outputId": "e19e8d4d-8c4f-4c29-ca1f-9941e77eb276"
      },
      "execution_count": 19,
      "outputs": [
        {
          "output_type": "stream",
          "name": "stdout",
          "text": [
            "[[10 10 10 10]\n",
            " [10 10 10 10]\n",
            " [10 10 10 10]\n",
            " [10 10 10 10]]\n",
            "\n",
            "[[0. 0. 0. 0.]\n",
            " [0. 0. 0. 0.]\n",
            " [0. 0. 0. 0.]\n",
            " [0. 0. 0. 0.]]\n",
            "\n",
            "[[1.]]\n",
            "\n",
            "[[ 0.5470118   0.86372006 -0.06877813  1.1141809 ]\n",
            " [-0.80387676 -0.45685044  1.0084647   0.08056613]\n",
            " [ 0.2846049  -0.7563923   0.8931992   2.0625546 ]\n",
            " [ 0.4643452   1.0336391  -0.5029766  -0.56745213]]\n",
            "\n"
          ]
        }
      ]
    },
    {
      "cell_type": "code",
      "source": [
        "# to access individually\n",
        "req_array = sess.run(my_ops[3])"
      ],
      "metadata": {
        "id": "-0xgK5Tqngqf"
      },
      "execution_count": 20,
      "outputs": []
    },
    {
      "cell_type": "code",
      "source": [
        "req_array[2][3]"
      ],
      "metadata": {
        "colab": {
          "base_uri": "https://localhost:8080/"
        },
        "id": "HrQKvgCUnprP",
        "outputId": "109868e2-1320-4a8d-face-3919a7e78ece"
      },
      "execution_count": 21,
      "outputs": [
        {
          "output_type": "execute_result",
          "data": {
            "text/plain": [
              "1.1731607"
            ]
          },
          "metadata": {},
          "execution_count": 21
        }
      ]
    },
    {
      "cell_type": "code",
      "source": [
        "# Get shape of tesnor\n",
        "zeros.get_shape()"
      ],
      "metadata": {
        "colab": {
          "base_uri": "https://localhost:8080/"
        },
        "id": "MRdc-tLMoKI_",
        "outputId": "531ba2b2-ba89-4ab3-81fd-8a0aa2206593"
      },
      "execution_count": 22,
      "outputs": [
        {
          "output_type": "execute_result",
          "data": {
            "text/plain": [
              "TensorShape([Dimension(4), Dimension(4)])"
            ]
          },
          "metadata": {},
          "execution_count": 22
        }
      ]
    },
    {
      "cell_type": "markdown",
      "source": [
        "# Multiplying two matrices\n"
      ],
      "metadata": {
        "id": "8Pa6znJFohKK"
      }
    },
    {
      "cell_type": "code",
      "source": [
        "mutiplication_of_matrices = tf.matmul(normal,normal)"
      ],
      "metadata": {
        "id": "7q7tkRiFojeO"
      },
      "execution_count": 23,
      "outputs": []
    },
    {
      "cell_type": "code",
      "source": [
        "sess.run(mutiplication_of_matrices)"
      ],
      "metadata": {
        "colab": {
          "base_uri": "https://localhost:8080/"
        },
        "id": "l7VOxbJPotR_",
        "outputId": "dc456d2e-2ddb-4fd2-e12a-d610b3996707"
      },
      "execution_count": 24,
      "outputs": [
        {
          "output_type": "execute_result",
          "data": {
            "text/plain": [
              "array([[-2.1119545 , -0.6237242 , -1.8805946 ,  1.755933  ],\n",
              "       [ 0.28616467,  0.12672985,  0.1982871 , -0.17851736],\n",
              "       [ 1.4243618 ,  0.05374526,  0.59927595,  2.6578357 ],\n",
              "       [-2.5733588 , -1.4613314 ,  1.5299532 ,  0.86622113]],\n",
              "      dtype=float32)"
            ]
          },
          "metadata": {},
          "execution_count": 24
        }
      ]
    },
    {
      "cell_type": "markdown",
      "source": [
        "# TensorFlow graphs\n",
        "# <h3 style=\"color:black\">Tensorflow graphs are set of connected nodes(vertices)</h3>\n",
        "# <h3> The connections are referred to as edges. </h3>\n",
        "# <h3> Each node can take n no of inputs and give a output <h3>"
      ],
      "metadata": {
        "id": "Ak9iEo7OSWup"
      }
    },
    {
      "cell_type": "code",
      "source": [
        "node_1 = tf.constant(1)"
      ],
      "metadata": {
        "id": "xZsmsvQWSZJj"
      },
      "execution_count": 26,
      "outputs": []
    },
    {
      "cell_type": "code",
      "source": [
        "node_2 = tf.constant(2)"
      ],
      "metadata": {
        "id": "ncOS8WjZUHXx"
      },
      "execution_count": 27,
      "outputs": []
    },
    {
      "cell_type": "code",
      "source": [
        "node_3 = node_1 + node_2"
      ],
      "metadata": {
        "id": "IqS51_xLURYs"
      },
      "execution_count": 28,
      "outputs": []
    },
    {
      "cell_type": "code",
      "source": [
        "sess.run(node_3)"
      ],
      "metadata": {
        "colab": {
          "base_uri": "https://localhost:8080/"
        },
        "id": "wkyt7o4lUWCG",
        "outputId": "2f6b6aef-3881-4f20-cec7-8c518fd15bda"
      },
      "execution_count": 29,
      "outputs": [
        {
          "output_type": "execute_result",
          "data": {
            "text/plain": [
              "3"
            ]
          },
          "metadata": {},
          "execution_count": 29
        }
      ]
    },
    {
      "cell_type": "code",
      "source": [
        "# Get a default graph\n",
        "graph_1 = tf.get_default_graph()"
      ],
      "metadata": {
        "id": "GC0-K6L2UZE-"
      },
      "execution_count": 30,
      "outputs": []
    },
    {
      "cell_type": "code",
      "source": [
        "# Create a new graph\n",
        "graph_2 = tf.Graph()"
      ],
      "metadata": {
        "id": "peF3l_GyUwBA"
      },
      "execution_count": 34,
      "outputs": []
    },
    {
      "cell_type": "code",
      "source": [
        "# to set graph_2 as default graph\n",
        "with graph_2.as_default():\n",
        "  print(graph_2)\n",
        "  print(graph_2 is tf.get_default_graph())# to check whether the graph_2 is set to default graph"
      ],
      "metadata": {
        "colab": {
          "base_uri": "https://localhost:8080/"
        },
        "id": "Tdd18cgwU0um",
        "outputId": "4c68389e-b5b2-4628-8fb6-156d46710263"
      },
      "execution_count": 38,
      "outputs": [
        {
          "output_type": "stream",
          "name": "stdout",
          "text": [
            "<tensorflow.python.framework.ops.Graph object at 0x7f931c327110>\n",
            "True\n"
          ]
        }
      ]
    },
    {
      "cell_type": "markdown",
      "source": [
        "# BUT, it is to be noted that the above will work under local scope. If you try to print this in a global level then we will again have graph_1 as the default graph."
      ],
      "metadata": {
        "id": "mUEz9QsMVv93"
      }
    },
    {
      "cell_type": "code",
      "source": [
        "\n",
        "# Lets check this out\n",
        "graph_1 is get_default_graph()"
      ],
      "metadata": {
        "colab": {
          "base_uri": "https://localhost:8080/"
        },
        "id": "uXr_98jYV-Dg",
        "outputId": "330bf4b8-a973-4e30-ef66-b1e9a4acff23"
      },
      "execution_count": 40,
      "outputs": [
        {
          "output_type": "execute_result",
          "data": {
            "text/plain": [
              "True"
            ]
          },
          "metadata": {},
          "execution_count": 40
        }
      ]
    },
    {
      "cell_type": "markdown",
      "source": [
        "# There are two main tensor objects in a graph- variables and placeholders"
      ],
      "metadata": {
        "id": "xE30kPe6Zwrw"
      }
    },
    {
      "cell_type": "code",
      "source": [
        "# create a tensor\n",
        "new_tensor = tf.random_normal((4,4))"
      ],
      "metadata": {
        "id": "GcO59RNHZ2SC"
      },
      "execution_count": 46,
      "outputs": []
    },
    {
      "cell_type": "code",
      "source": [
        "sess.run(new_tensor)"
      ],
      "metadata": {
        "colab": {
          "base_uri": "https://localhost:8080/"
        },
        "id": "MYMjeHbXWLHe",
        "outputId": "8a4d2d14-3dda-4d0f-a1b0-7a8d04dc0a92"
      },
      "execution_count": 47,
      "outputs": [
        {
          "output_type": "execute_result",
          "data": {
            "text/plain": [
              "array([[-0.44383726,  0.9842642 ,  0.89496213, -0.36507675],\n",
              "       [ 0.17152528,  1.6601074 ,  0.7698097 , -0.7437338 ],\n",
              "       [-0.03852652,  1.052567  , -0.19112135,  0.69622034],\n",
              "       [ 0.5552106 ,  0.5089329 ,  1.1286408 , -1.3035915 ]],\n",
              "      dtype=float32)"
            ]
          },
          "metadata": {},
          "execution_count": 47
        }
      ]
    },
    {
      "cell_type": "code",
      "source": [
        "# CREATE A VARIABLE\n",
        "new_variable = tf.Variable(initial_value=new_tensor)"
      ],
      "metadata": {
        "id": "RcooErbWbHOV"
      },
      "execution_count": 52,
      "outputs": []
    },
    {
      "cell_type": "markdown",
      "source": [
        "# If you try run the variable with sess.run(new_variable) we will get an error - FailedPreconditionError\n",
        "# This is because we need to initialize the variable"
      ],
      "metadata": {
        "id": "2qDDKeemcAr6"
      }
    },
    {
      "cell_type": "code",
      "source": [
        "# initilizing function\n",
        "init = tf.global_variables_initializer()"
      ],
      "metadata": {
        "id": "cA5TKDiRcRpR"
      },
      "execution_count": 54,
      "outputs": []
    },
    {
      "cell_type": "code",
      "source": [
        "# run the initilization\n",
        "sess.run(init)"
      ],
      "metadata": {
        "id": "pLsmS4L8cXaP"
      },
      "execution_count": 56,
      "outputs": []
    },
    {
      "cell_type": "code",
      "source": [
        "# Try to run the variable\n",
        "sess.run(new_variable)"
      ],
      "metadata": {
        "colab": {
          "base_uri": "https://localhost:8080/"
        },
        "id": "gByrlyvAciQO",
        "outputId": "3708733c-7195-49bc-9b66-3caca80b63ab"
      },
      "execution_count": 58,
      "outputs": [
        {
          "output_type": "execute_result",
          "data": {
            "text/plain": [
              "array([[-1.0757754 , -1.3182123 ,  0.24291566,  0.8178238 ],\n",
              "       [ 0.6927579 ,  1.149549  , -1.5985435 ,  0.36982876],\n",
              "       [ 0.523105  ,  0.3340683 ,  0.31818643, -0.34429303],\n",
              "       [-0.80809456, -1.0003623 ,  0.8651219 , -0.06896771]],\n",
              "      dtype=float32)"
            ]
          },
          "metadata": {},
          "execution_count": 58
        }
      ]
    },
    {
      "cell_type": "code",
      "source": [
        "# create a placeholder\n",
        "new_placeholder = tf.placeholder(tf.float32, shape=(4,4))"
      ],
      "metadata": {
        "id": "qeB3mYrCdIJ0"
      },
      "execution_count": 61,
      "outputs": []
    },
    {
      "cell_type": "code",
      "source": [
        "new_placeholder"
      ],
      "metadata": {
        "colab": {
          "base_uri": "https://localhost:8080/"
        },
        "id": "u9ueSiOOdUd3",
        "outputId": "a00bc4b2-d3c2-4a81-f20e-58767ae00eaf"
      },
      "execution_count": 62,
      "outputs": [
        {
          "output_type": "execute_result",
          "data": {
            "text/plain": [
              "<tf.Tensor 'Placeholder_1:0' shape=(4, 4) dtype=float32>"
            ]
          },
          "metadata": {},
          "execution_count": 62
        }
      ]
    },
    {
      "cell_type": "markdown",
      "source": [
        "# Mostly the shape in placeholder will be None,some number as we weill train the model in batches and we dont know prior the shape of the training set data."
      ],
      "metadata": {
        "id": "VeBZVA6cdxLU"
      }
    },
    {
      "cell_type": "code",
      "source": [
        "# create a new placeholder\n",
        "new_placeholder_2 = tf.placeholder(tf.float32, shape=(None,4))"
      ],
      "metadata": {
        "id": "ot8gd8iUd9h8"
      },
      "execution_count": 63,
      "outputs": []
    },
    {
      "cell_type": "code",
      "source": [
        "new_placeholder_2"
      ],
      "metadata": {
        "colab": {
          "base_uri": "https://localhost:8080/"
        },
        "id": "0SiKHGaaeClm",
        "outputId": "3ed45625-2c07-4d93-f6d5-453520801951"
      },
      "execution_count": 64,
      "outputs": [
        {
          "output_type": "execute_result",
          "data": {
            "text/plain": [
              "<tf.Tensor 'Placeholder_2:0' shape=(?, 4) dtype=float32>"
            ]
          },
          "metadata": {},
          "execution_count": 64
        }
      ]
    }
  ]
}