{
  "nbformat": 4,
  "nbformat_minor": 0,
  "metadata": {
    "colab": {
      "name": "TensorFlow-NN.ipynb",
      "provenance": [],
      "authorship_tag": "ABX9TyNmhmIAEcjPDWbUDwBKcor+",
      "include_colab_link": true
    },
    "kernelspec": {
      "name": "python3",
      "display_name": "Python 3"
    },
    "language_info": {
      "name": "python"
    }
  },
  "cells": [
    {
      "cell_type": "markdown",
      "metadata": {
        "id": "view-in-github",
        "colab_type": "text"
      },
      "source": [
        "<a href=\"https://colab.research.google.com/github/PriyathamVarma/tensorflow/blob/main/TensorFlow_NN.ipynb\" target=\"_parent\"><img src=\"https://colab.research.google.com/assets/colab-badge.svg\" alt=\"Open In Colab\"/></a>"
      ]
    },
    {
      "cell_type": "markdown",
      "source": [
        "# This note book is on creating code for a neural network using tensorflow\n",
        "# created on 25/12/2021."
      ],
      "metadata": {
        "id": "4SLB76QWfZ14"
      }
    },
    {
      "cell_type": "code",
      "execution_count": 61,
      "metadata": {
        "colab": {
          "base_uri": "https://localhost:8080/"
        },
        "id": "I0re3IP2fVck",
        "outputId": "451c3420-47de-4e05-fd76-da4f524f619d"
      },
      "outputs": [
        {
          "output_type": "stream",
          "name": "stdout",
          "text": [
            "`%tensorflow_version` only switches the major version: 1.x or 2.x.\n",
            "You set: `1.3.0`. This will be interpreted as: `1.x`.\n",
            "\n",
            "\n",
            "TensorFlow is already loaded. Please restart the runtime to change versions.\n"
          ]
        }
      ],
      "source": [
        "# this is for specifing the exact version\n",
        "%tensorflow_version 1.3.0"
      ]
    },
    {
      "cell_type": "code",
      "source": [
        "# imports\n",
        "import tensorflow as tf\n",
        "import numpy as np\n",
        "import matplotlib.pyplot as plt\n"
      ],
      "metadata": {
        "id": "HikUcExekV1b"
      },
      "execution_count": 122,
      "outputs": []
    },
    {
      "cell_type": "code",
      "source": [
        "tf.__version__"
      ],
      "metadata": {
        "colab": {
          "base_uri": "https://localhost:8080/",
          "height": 35
        },
        "id": "0BWUi_IFkXje",
        "outputId": "a6df1e3b-b720-4992-c0a1-692875965d5b"
      },
      "execution_count": 63,
      "outputs": [
        {
          "output_type": "execute_result",
          "data": {
            "application/vnd.google.colaboratory.intrinsic+json": {
              "type": "string"
            },
            "text/plain": [
              "'1.15.2'"
            ]
          },
          "metadata": {},
          "execution_count": 63
        }
      ]
    },
    {
      "cell_type": "markdown",
      "source": [
        "# The aim is to create a neural network with tensorflow using graphs, variables and placeholders\n",
        "# Objectives\n",
        "\n",
        "1.  Creating a neuron that performs basic linear fit to transform a 2-d data.\n",
        "For this purpose we will use wx+b to feed into an activation function. x can be derived by placeholder, w and b can be derived by variables. \n",
        "\n",
        "\n",
        "\n",
        "\n"
      ],
      "metadata": {
        "id": "eLYYD7q_kZmR"
      }
    },
    {
      "cell_type": "code",
      "source": [
        "np.random.seed(101)\n",
        "tf.set_random_seed(101)"
      ],
      "metadata": {
        "id": "eWnwO2PnpZ1w"
      },
      "execution_count": 64,
      "outputs": []
    },
    {
      "cell_type": "code",
      "source": [
        "# create placeholders\n",
        "a = tf.placeholder(tf.float32)\n",
        "b = tf.placeholder(tf.float32)"
      ],
      "metadata": {
        "id": "XGJoUYrdlCo4"
      },
      "execution_count": 65,
      "outputs": []
    },
    {
      "cell_type": "code",
      "source": [
        "add_operations = a + b"
      ],
      "metadata": {
        "id": "-FzjihE4nDrQ"
      },
      "execution_count": 66,
      "outputs": []
    },
    {
      "cell_type": "code",
      "source": [
        "multiply_operations = a * b"
      ],
      "metadata": {
        "id": "iX3CE6GwnG0P"
      },
      "execution_count": 67,
      "outputs": []
    },
    {
      "cell_type": "code",
      "source": [
        "sess = tf.Session()"
      ],
      "metadata": {
        "id": "mdBaMjcinJbd"
      },
      "execution_count": 68,
      "outputs": []
    },
    {
      "cell_type": "code",
      "source": [
        "# run the session, the important thing here is that we have to pass on the data to placeholders\n",
        "sess.run(add_operations,feed_dict={a:10,b:20})"
      ],
      "metadata": {
        "colab": {
          "base_uri": "https://localhost:8080/"
        },
        "id": "F7RG-EXEnifm",
        "outputId": "da6bdbf4-b2a5-4511-86cf-1dfafb98f9a7"
      },
      "execution_count": 69,
      "outputs": [
        {
          "output_type": "execute_result",
          "data": {
            "text/plain": [
              "30.0"
            ]
          },
          "metadata": {},
          "execution_count": 69
        }
      ]
    },
    {
      "cell_type": "code",
      "source": [
        "# now if we want to pass on arrays then lets create an array and pass that into the placeholders\n",
        "array_a = np.random.uniform(1,100,(5,5))"
      ],
      "metadata": {
        "id": "b0XYerqKn6tT"
      },
      "execution_count": 70,
      "outputs": []
    },
    {
      "cell_type": "code",
      "source": [
        "array_a"
      ],
      "metadata": {
        "colab": {
          "base_uri": "https://localhost:8080/"
        },
        "id": "I9GePmk2oO-f",
        "outputId": "f337f3eb-49cf-4968-c65a-1766e4db9df3"
      },
      "execution_count": 71,
      "outputs": [
        {
          "output_type": "execute_result",
          "data": {
            "text/plain": [
              "array([[52.12346414, 57.4960911 ,  3.81894842, 17.98064397, 68.84242119],\n",
              "       [83.5557894 , 31.38965575, 89.46769489, 72.43284232, 19.80395647],\n",
              "       [55.86853152, 35.86106345, 19.00734786, 78.77457442, 96.58283902],\n",
              "       [24.00301252,  9.27258193, 60.75129381, 73.17028297, 28.34764402],\n",
              "       [68.84532655, 52.26887995,  5.79996921, 14.64905452, 19.50977519]])"
            ]
          },
          "metadata": {},
          "execution_count": 71
        }
      ]
    },
    {
      "cell_type": "code",
      "source": [
        "array_b = np.random.uniform(1,100,(5,1))\n",
        "array_b"
      ],
      "metadata": {
        "colab": {
          "base_uri": "https://localhost:8080/"
        },
        "id": "4zqhLX3foZMD",
        "outputId": "7d5c0ac1-d835-4822-99cb-1c2fabab95f2"
      },
      "execution_count": 72,
      "outputs": [
        {
          "output_type": "execute_result",
          "data": {
            "text/plain": [
              "array([[99.43747221],\n",
              "       [52.54587427],\n",
              "       [58.30016401],\n",
              "       [73.74708677],\n",
              "       [54.65421545]])"
            ]
          },
          "metadata": {},
          "execution_count": 72
        }
      ]
    },
    {
      "cell_type": "code",
      "source": [
        "# create placeholders\n",
        "a = tf.placeholder(tf.float32)\n",
        "b = tf.placeholder(tf.float32)"
      ],
      "metadata": {
        "id": "m5YOesEppzKj"
      },
      "execution_count": 73,
      "outputs": []
    },
    {
      "cell_type": "code",
      "source": [
        "add_operations = a + b"
      ],
      "metadata": {
        "id": "YStcdzT9rEUS"
      },
      "execution_count": 74,
      "outputs": []
    },
    {
      "cell_type": "code",
      "source": [
        "multiply_operations = a * b"
      ],
      "metadata": {
        "id": "zBV0S-32raaG"
      },
      "execution_count": 75,
      "outputs": []
    },
    {
      "cell_type": "code",
      "source": [
        "# check the operations by passing array_a and array_b to the dict inside session\n",
        "sess.run(add_operations,feed_dict={a:array_a,b:array_b})"
      ],
      "metadata": {
        "colab": {
          "base_uri": "https://localhost:8080/"
        },
        "id": "J-2xYoZhohmV",
        "outputId": "7d3a9568-66b7-4530-a787-cc61ce2a0737"
      },
      "execution_count": 76,
      "outputs": [
        {
          "output_type": "execute_result",
          "data": {
            "text/plain": [
              "array([[151.56093 , 156.93356 , 103.25642 , 117.41811 , 168.27989 ],\n",
              "       [136.10165 ,  83.93553 , 142.01358 , 124.97872 ,  72.34983 ],\n",
              "       [114.16869 ,  94.161224,  77.30751 , 137.07474 , 154.883   ],\n",
              "       [ 97.7501  ,  83.01967 , 134.49838 , 146.91736 , 102.09473 ],\n",
              "       [123.49954 , 106.923096,  60.454185,  69.30327 ,  74.163994]],\n",
              "      dtype=float32)"
            ]
          },
          "metadata": {},
          "execution_count": 76
        }
      ]
    },
    {
      "cell_type": "markdown",
      "source": [
        "# You might see some steps repeatating, this is because the steps should be in sequential to get the code running. First declare array_a and array_b, then do the placeholders, then do the add, multiply operations. Finally run the session."
      ],
      "metadata": {
        "id": "6YGbIEZxrPRC"
      }
    },
    {
      "cell_type": "code",
      "source": [
        "# multiply operations\n",
        "sess.run(multiply_operations,feed_dict={a:array_a,b:array_b})"
      ],
      "metadata": {
        "colab": {
          "base_uri": "https://localhost:8080/"
        },
        "id": "yL_dqgI1r0LQ",
        "outputId": "8a81641e-2c39-4c68-9097-5f424fc13fc0"
      },
      "execution_count": 77,
      "outputs": [
        {
          "output_type": "execute_result",
          "data": {
            "text/plain": [
              "array([[5183.0254 , 5717.2656 ,  379.74658, 1787.9497 , 6845.516  ],\n",
              "       [4390.5117 , 1649.397  , 4701.1587 , 3806.0474 , 1040.6162 ],\n",
              "       [3257.1445 , 2090.706  , 1108.1315 , 4592.5703 , 5630.7954 ],\n",
              "       [1770.1521 ,  683.8259 , 4480.231  , 5396.0947 , 2090.5562 ],\n",
              "       [3762.6875 , 2856.7146 ,  316.99277,  800.6326 , 1066.2915 ]],\n",
              "      dtype=float32)"
            ]
          },
          "metadata": {},
          "execution_count": 77
        }
      ]
    },
    {
      "cell_type": "markdown",
      "source": [
        "# Creating the neural network"
      ],
      "metadata": {
        "id": "ZlrJL_B7tkc9"
      }
    },
    {
      "cell_type": "code",
      "source": [
        "features = 10\n",
        "dense_neurons = 3\n",
        "mini_batch = 5"
      ],
      "metadata": {
        "id": "uwl-qrWUtmix"
      },
      "execution_count": 117,
      "outputs": []
    },
    {
      "cell_type": "code",
      "source": [
        "x = tf.placeholder(tf.float32,(None,features))"
      ],
      "metadata": {
        "id": "7GIyCjCHtv6G"
      },
      "execution_count": 103,
      "outputs": []
    },
    {
      "cell_type": "code",
      "source": [
        "W = tf.Variable(tf.random_normal([features, dense_neurons]))"
      ],
      "metadata": {
        "id": "9Cvcz1zGvDTW"
      },
      "execution_count": 104,
      "outputs": []
    },
    {
      "cell_type": "code",
      "source": [
        "b = tf.Variable(tf.ones([dense_neurons]))"
      ],
      "metadata": {
        "id": "DieWTTnmv6iY"
      },
      "execution_count": 105,
      "outputs": []
    },
    {
      "cell_type": "code",
      "source": [
        "xW = tf.matmul(x,W)"
      ],
      "metadata": {
        "id": "fmNM03suxs4t"
      },
      "execution_count": 107,
      "outputs": []
    },
    {
      "cell_type": "code",
      "source": [
        "z = tf.add(xW , b)"
      ],
      "metadata": {
        "id": "gA4HOR7sx32G"
      },
      "execution_count": 108,
      "outputs": []
    },
    {
      "cell_type": "code",
      "source": [
        "z"
      ],
      "metadata": {
        "colab": {
          "base_uri": "https://localhost:8080/"
        },
        "id": "gAIvhSK6yTsj",
        "outputId": "7b267cc1-ebc7-446f-a90d-d8b763c6361f"
      },
      "execution_count": 109,
      "outputs": [
        {
          "output_type": "execute_result",
          "data": {
            "text/plain": [
              "<tf.Tensor 'Add_10:0' shape=(?, 3) dtype=float32>"
            ]
          },
          "metadata": {},
          "execution_count": 109
        }
      ]
    },
    {
      "cell_type": "code",
      "source": [
        "# activation function\n",
        "a = tf.sigmoid(z)"
      ],
      "metadata": {
        "id": "Psq3VR7Ex68O"
      },
      "execution_count": 110,
      "outputs": []
    },
    {
      "cell_type": "code",
      "source": [
        "a"
      ],
      "metadata": {
        "colab": {
          "base_uri": "https://localhost:8080/"
        },
        "id": "k6cXJQbVyPrm",
        "outputId": "9396ab57-0a1f-4d8b-915e-77cbefb6f124"
      },
      "execution_count": 111,
      "outputs": [
        {
          "output_type": "execute_result",
          "data": {
            "text/plain": [
              "<tf.Tensor 'Sigmoid_4:0' shape=(?, 3) dtype=float32>"
            ]
          },
          "metadata": {},
          "execution_count": 111
        }
      ]
    },
    {
      "cell_type": "code",
      "source": [
        "# initialize variables\n",
        "init = tf.global_variables_initializer()"
      ],
      "metadata": {
        "id": "5LiT0eGGyVN6"
      },
      "execution_count": 112,
      "outputs": []
    },
    {
      "cell_type": "code",
      "source": [
        "sess.run(init)"
      ],
      "metadata": {
        "id": "Apl0KDHL0MHv"
      },
      "execution_count": 113,
      "outputs": []
    },
    {
      "cell_type": "code",
      "source": [
        "sess.run(a,feed_dict={x:np.random.random([mini_batch,features])})"
      ],
      "metadata": {
        "colab": {
          "base_uri": "https://localhost:8080/"
        },
        "id": "hs3PdR0lyrER",
        "outputId": "eae69c0c-c882-4b3c-a3cb-90055119b506"
      },
      "execution_count": 118,
      "outputs": [
        {
          "output_type": "execute_result",
          "data": {
            "text/plain": [
              "array([[0.32093835, 0.9753169 , 0.9000826 ],\n",
              "       [0.17077655, 0.8696216 , 0.8325825 ],\n",
              "       [0.14852801, 0.74449015, 0.5742336 ],\n",
              "       [0.40211484, 0.9377495 , 0.82071096],\n",
              "       [0.34791327, 0.96002585, 0.8115634 ]], dtype=float32)"
            ]
          },
          "metadata": {},
          "execution_count": 118
        }
      ]
    },
    {
      "cell_type": "markdown",
      "source": [
        "# Cost function sample showing some linear regression example"
      ],
      "metadata": {
        "id": "3QUfOTKa2li8"
      }
    },
    {
      "cell_type": "code",
      "source": [
        "x_data = np.linspace(0,10,10) + np.random.uniform(-1,1,10)\n",
        "# Here we are creating a regression line with some noise"
      ],
      "metadata": {
        "id": "GHWndyiC2mzb"
      },
      "execution_count": 135,
      "outputs": []
    },
    {
      "cell_type": "code",
      "source": [
        "x_data"
      ],
      "metadata": {
        "colab": {
          "base_uri": "https://localhost:8080/"
        },
        "id": "X_0Z-DdE3Xlm",
        "outputId": "6247f76e-93fd-4a33-8c1b-a5bbfb663c22"
      },
      "execution_count": 136,
      "outputs": [
        {
          "output_type": "execute_result",
          "data": {
            "text/plain": [
              "array([0.20825807, 1.09392664, 2.80852675, 2.68738298, 4.12850359,\n",
              "       5.06661849, 6.13202366, 8.30001162, 9.77578966, 9.95564051])"
            ]
          },
          "metadata": {},
          "execution_count": 136
        }
      ]
    },
    {
      "cell_type": "code",
      "source": [
        "y_label = np.linspace(0,10,10) + np.random.uniform(-1,1,10)"
      ],
      "metadata": {
        "id": "c6X4JzeX34-M"
      },
      "execution_count": 137,
      "outputs": []
    },
    {
      "cell_type": "code",
      "source": [
        "y_label"
      ],
      "metadata": {
        "colab": {
          "base_uri": "https://localhost:8080/"
        },
        "id": "v8IEO3KX38uL",
        "outputId": "d5e4150a-159d-45ed-a0b5-6976bab64abc"
      },
      "execution_count": 138,
      "outputs": [
        {
          "output_type": "execute_result",
          "data": {
            "text/plain": [
              "array([-0.93831267,  1.29535012,  1.89576863,  3.34161562,  3.49193646,\n",
              "        5.1788283 ,  7.38177965,  7.58969137,  9.04066694, 10.38231412])"
            ]
          },
          "metadata": {},
          "execution_count": 138
        }
      ]
    },
    {
      "cell_type": "code",
      "source": [
        "plt.plot(x_data,y_label,'+')"
      ],
      "metadata": {
        "colab": {
          "base_uri": "https://localhost:8080/",
          "height": 282
        },
        "id": "fuf_utp-3_7W",
        "outputId": "fa312630-d72c-4d68-a435-adb2a3dbc6ff"
      },
      "execution_count": 139,
      "outputs": [
        {
          "output_type": "execute_result",
          "data": {
            "text/plain": [
              "[<matplotlib.lines.Line2D at 0x7f0d574361d0>]"
            ]
          },
          "metadata": {},
          "execution_count": 139
        },
        {
          "output_type": "display_data",
          "data": {
            "image/png": "[encoded data removed]",
            "text/plain": [
              "<Figure size 432x288 with 1 Axes>"
            ]
          },
          "metadata": {
            "needs_background": "light"
          }
        }
      ]
    },
    {
      "cell_type": "code",
      "source": [
        "# y = mx+b, this is the equation to be solved.\n",
        "m = tf.Variable(np.random.rand(1))\n",
        "b = tf.Variable(np.random.rand(1))"
      ],
      "metadata": {
        "id": "dN-KFu0Y4UXl"
      },
      "execution_count": 140,
      "outputs": []
    },
    {
      "cell_type": "code",
      "source": [
        "error = 0\n",
        "\n",
        "for x,y in zip(x_data,y_label):\n",
        "  y_hat = m*x + b\n",
        "\n",
        "  error += (y-y_hat)**2\n"
      ],
      "metadata": {
        "id": "tB8j19Uc4nxz"
      },
      "execution_count": 142,
      "outputs": []
    },
    {
      "cell_type": "code",
      "source": [
        "sess.run(error)"
      ],
      "metadata": {
        "colab": {
          "base_uri": "https://localhost:8080/"
        },
        "id": "KJAAvBVj6rBT",
        "outputId": "7e67b524-6df7-4149-a291-bef92f69275d"
      },
      "execution_count": 154,
      "outputs": [
        {
          "output_type": "execute_result",
          "data": {
            "text/plain": [
              "array([9.39047494])"
            ]
          },
          "metadata": {},
          "execution_count": 154
        }
      ]
    },
    {
      "cell_type": "markdown",
      "source": [
        "# use optimizer"
      ],
      "metadata": {
        "id": "cTocGaJL5dl9"
      }
    },
    {
      "cell_type": "code",
      "source": [
        "optimizer = tf.train.GradientDescentOptimizer(learning_rate = 0.001)"
      ],
      "metadata": {
        "id": "Nv3hmWIu5fLm"
      },
      "execution_count": 143,
      "outputs": []
    },
    {
      "cell_type": "code",
      "source": [
        "optimizer"
      ],
      "metadata": {
        "colab": {
          "base_uri": "https://localhost:8080/"
        },
        "id": "-KmI8oQL5tTs",
        "outputId": "0a183e05-1ff6-4f7b-9e00-eb8c7ea80a8a"
      },
      "execution_count": 145,
      "outputs": [
        {
          "output_type": "execute_result",
          "data": {
            "text/plain": [
              "<tensorflow.python.training.gradient_descent.GradientDescentOptimizer at 0x7f0d56e13b50>"
            ]
          },
          "metadata": {},
          "execution_count": 145
        }
      ]
    },
    {
      "cell_type": "code",
      "source": [
        "train = optimizer.minimize(error)"
      ],
      "metadata": {
        "colab": {
          "base_uri": "https://localhost:8080/"
        },
        "id": "oncbHj4d5vi-",
        "outputId": "392e8a1b-2d3b-4a88-a878-970ea091e849"
      },
      "execution_count": 146,
      "outputs": [
        {
          "output_type": "stream",
          "name": "stdout",
          "text": [
            "WARNING:tensorflow:From /tensorflow-1.15.2/python3.7/tensorflow_core/python/ops/math_grad.py:1375: where (from tensorflow.python.ops.array_ops) is deprecated and will be removed in a future version.\n",
            "Instructions for updating:\n",
            "Use tf.where in 2.0, which has the same broadcast rule as np.where\n"
          ]
        }
      ]
    },
    {
      "cell_type": "code",
      "source": [
        "# initialize variables\n",
        "init = tf.global_variables_initializer()"
      ],
      "metadata": {
        "id": "b7Wkvuec5y8X"
      },
      "execution_count": 148,
      "outputs": []
    },
    {
      "cell_type": "code",
      "source": [
        "sess.run(init)"
      ],
      "metadata": {
        "id": "5Gp5-3b0562i"
      },
      "execution_count": 149,
      "outputs": []
    },
    {
      "cell_type": "code",
      "source": [
        "training_steps = 1"
      ],
      "metadata": {
        "id": "ZADwn4nk58zs"
      },
      "execution_count": 151,
      "outputs": []
    },
    {
      "cell_type": "code",
      "source": [
        "for i in range(training_steps):\n",
        "  sess.run(train)"
      ],
      "metadata": {
        "id": "0Mrw90Yp6fz1"
      },
      "execution_count": 152,
      "outputs": []
    },
    {
      "cell_type": "code",
      "source": [
        "final_slope, final_intercept = sess.run([m,b])"
      ],
      "metadata": {
        "id": "jffg3eKF6qFY"
      },
      "execution_count": 155,
      "outputs": []
    },
    {
      "cell_type": "code",
      "source": [
        "\n",
        "final_slope"
      ],
      "metadata": {
        "colab": {
          "base_uri": "https://localhost:8080/"
        },
        "id": "zDM6w0w16_Ee",
        "outputId": "1995f8f1-8ff1-45aa-c796-f775289464e0"
      },
      "execution_count": 157,
      "outputs": [
        {
          "output_type": "execute_result",
          "data": {
            "text/plain": [
              "array([0.87022233])"
            ]
          },
          "metadata": {},
          "execution_count": 157
        }
      ]
    },
    {
      "cell_type": "code",
      "source": [
        "final_intercept"
      ],
      "metadata": {
        "colab": {
          "base_uri": "https://localhost:8080/"
        },
        "id": "a_xFUIHN7SA2",
        "outputId": "d3f2c623-ed35-4f3c-b80a-a752dc29a6fa"
      },
      "execution_count": 158,
      "outputs": [
        {
          "output_type": "execute_result",
          "data": {
            "text/plain": [
              "array([0.82750668])"
            ]
          },
          "metadata": {},
          "execution_count": 158
        }
      ]
    },
    {
      "cell_type": "code",
      "source": [
        "# test the data\n",
        "\n",
        "x_test = np.linspace(-1,11,10)\n",
        "\n",
        "y_pred = final_slope * x_test + final_intercept\n",
        "\n",
        "plt.plot(x_test,y_pred,color=\"green\")\n",
        "plt.plot(x_data,y_label,color=\"red\")"
      ],
      "metadata": {
        "colab": {
          "base_uri": "https://localhost:8080/",
          "height": 282
        },
        "id": "sR1Qy9rF7VKf",
        "outputId": "2bdf95f8-2659-473d-e399-bdf39d34baf5"
      },
      "execution_count": 162,
      "outputs": [
        {
          "output_type": "execute_result",
          "data": {
            "text/plain": [
              "[<matplotlib.lines.Line2D at 0x7f0d56a636d0>]"
            ]
          },
          "metadata": {},
          "execution_count": 162
        },
        {
          "output_type": "display_data",
          "data": {
            "image/png": "[encoded data removed]",
            "text/plain": [
              "<Figure size 432x288 with 1 Axes>"
            ]
          },
          "metadata": {
            "needs_background": "light"
          }
        }
      ]
    }
  ]
}