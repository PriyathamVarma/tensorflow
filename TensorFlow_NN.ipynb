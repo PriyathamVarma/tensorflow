{
  "nbformat": 4,
  "nbformat_minor": 0,
  "metadata": {
    "colab": {
      "name": "TensorFlow-NN.ipynb",
      "provenance": [],
      "authorship_tag": "ABX9TyN6BIaqK3ykMFXQnOZ0Fumf",
      "include_colab_link": true
    },
    "kernelspec": {
      "name": "python3",
      "display_name": "Python 3"
    },
    "language_info": {
      "name": "python"
    }
  },
  "cells": [
    {
      "cell_type": "markdown",
      "metadata": {
        "id": "view-in-github",
        "colab_type": "text"
      },
      "source": [
        "<a href=\"https://colab.research.google.com/github/PriyathamVarma/tensorflow/blob/main/TensorFlow_NN.ipynb\" target=\"_parent\"><img src=\"https://colab.research.google.com/assets/colab-badge.svg\" alt=\"Open In Colab\"/></a>"
      ]
    },
    {
      "cell_type": "markdown",
      "source": [
        "# This note book is on creating code for a neural network using tensorflow\n",
        "# created on 25/12/2021."
      ],
      "metadata": {
        "id": "4SLB76QWfZ14"
      }
    },
    {
      "cell_type": "code",
      "execution_count": 1,
      "metadata": {
        "colab": {
          "base_uri": "https://localhost:8080/"
        },
        "id": "I0re3IP2fVck",
        "outputId": "fbc8f33f-796b-4f4f-990f-ed1087b28f20"
      },
      "outputs": [
        {
          "output_type": "stream",
          "name": "stdout",
          "text": [
            "`%tensorflow_version` only switches the major version: 1.x or 2.x.\n",
            "You set: `1.3.0`. This will be interpreted as: `1.x`.\n",
            "\n",
            "\n",
            "TensorFlow 1.x selected.\n"
          ]
        }
      ],
      "source": [
        "# this is for specifing the exact version\n",
        "%tensorflow_version 1.3.0"
      ]
    },
    {
      "cell_type": "code",
      "source": [
        "# imports\n",
        "import tensorflow as tf\n",
        "import numpy as np\n",
        "import matplotlib.pyplot as plt\n"
      ],
      "metadata": {
        "id": "HikUcExekV1b"
      },
      "execution_count": 2,
      "outputs": []
    },
    {
      "cell_type": "code",
      "source": [
        "tf.__version__"
      ],
      "metadata": {
        "colab": {
          "base_uri": "https://localhost:8080/",
          "height": 35
        },
        "id": "0BWUi_IFkXje",
        "outputId": "7d23a5ee-c24d-494c-965d-404b95ab0ffc"
      },
      "execution_count": 3,
      "outputs": [
        {
          "output_type": "execute_result",
          "data": {
            "application/vnd.google.colaboratory.intrinsic+json": {
              "type": "string"
            },
            "text/plain": [
              "'1.15.2'"
            ]
          },
          "metadata": {},
          "execution_count": 3
        }
      ]
    },
    {
      "cell_type": "markdown",
      "source": [
        "# The aim is to create a neural network with tensorflow using graphs, variables and placeholders\n",
        "# Objectives\n",
        "\n",
        "1.  Creating a neuron that performs basic linear fit to transform a 2-d data.\n",
        "For this purpose we will use wx+b to feed into an activation function. x can be derived by placeholder, w and b can be derived by variables. \n",
        "\n",
        "\n",
        "\n",
        "\n"
      ],
      "metadata": {
        "id": "eLYYD7q_kZmR"
      }
    },
    {
      "cell_type": "code",
      "source": [
        "np.random.seed(101)\n",
        "tf.set_random_seed(101)"
      ],
      "metadata": {
        "id": "eWnwO2PnpZ1w"
      },
      "execution_count": 4,
      "outputs": []
    },
    {
      "cell_type": "code",
      "source": [
        "# create placeholders\n",
        "a = tf.placeholder(tf.float32)\n",
        "b = tf.placeholder(tf.float32)"
      ],
      "metadata": {
        "id": "XGJoUYrdlCo4"
      },
      "execution_count": 5,
      "outputs": []
    },
    {
      "cell_type": "code",
      "source": [
        "add_operations = a + b"
      ],
      "metadata": {
        "id": "-FzjihE4nDrQ"
      },
      "execution_count": 6,
      "outputs": []
    },
    {
      "cell_type": "code",
      "source": [
        "multiply_operations = a * b"
      ],
      "metadata": {
        "id": "iX3CE6GwnG0P"
      },
      "execution_count": 7,
      "outputs": []
    },
    {
      "cell_type": "code",
      "source": [
        "sess = tf.Session()"
      ],
      "metadata": {
        "id": "mdBaMjcinJbd"
      },
      "execution_count": 8,
      "outputs": []
    },
    {
      "cell_type": "code",
      "source": [
        "# run the session, the important thing here is that we have to pass on the data to placeholders\n",
        "sess.run(add_operations,feed_dict={a:10,b:20})"
      ],
      "metadata": {
        "colab": {
          "base_uri": "https://localhost:8080/"
        },
        "id": "F7RG-EXEnifm",
        "outputId": "404bdd95-5d3a-43a3-da3c-9770abeb3b2b"
      },
      "execution_count": 9,
      "outputs": [
        {
          "output_type": "execute_result",
          "data": {
            "text/plain": [
              "30.0"
            ]
          },
          "metadata": {},
          "execution_count": 9
        }
      ]
    },
    {
      "cell_type": "code",
      "source": [
        "# now if we want to pass on arrays then lets create an array and pass that into the placeholders\n",
        "array_a = np.random.uniform(1,100,(5,5))"
      ],
      "metadata": {
        "id": "b0XYerqKn6tT"
      },
      "execution_count": 10,
      "outputs": []
    },
    {
      "cell_type": "code",
      "source": [
        "array_a"
      ],
      "metadata": {
        "colab": {
          "base_uri": "https://localhost:8080/"
        },
        "id": "I9GePmk2oO-f",
        "outputId": "45d54c43-45a1-4423-ce88-3be5792e10ce"
      },
      "execution_count": 11,
      "outputs": [
        {
          "output_type": "execute_result",
          "data": {
            "text/plain": [
              "array([[52.12346414, 57.4960911 ,  3.81894842, 17.98064397, 68.84242119],\n",
              "       [83.5557894 , 31.38965575, 89.46769489, 72.43284232, 19.80395647],\n",
              "       [55.86853152, 35.86106345, 19.00734786, 78.77457442, 96.58283902],\n",
              "       [24.00301252,  9.27258193, 60.75129381, 73.17028297, 28.34764402],\n",
              "       [68.84532655, 52.26887995,  5.79996921, 14.64905452, 19.50977519]])"
            ]
          },
          "metadata": {},
          "execution_count": 11
        }
      ]
    },
    {
      "cell_type": "code",
      "source": [
        "array_b = np.random.uniform(1,100,(5,1))\n",
        "array_b"
      ],
      "metadata": {
        "colab": {
          "base_uri": "https://localhost:8080/"
        },
        "id": "4zqhLX3foZMD",
        "outputId": "a4b0f4f4-f40c-48e4-980e-06721b9c10eb"
      },
      "execution_count": 12,
      "outputs": [
        {
          "output_type": "execute_result",
          "data": {
            "text/plain": [
              "array([[99.43747221],\n",
              "       [52.54587427],\n",
              "       [58.30016401],\n",
              "       [73.74708677],\n",
              "       [54.65421545]])"
            ]
          },
          "metadata": {},
          "execution_count": 12
        }
      ]
    },
    {
      "cell_type": "code",
      "source": [
        "# create placeholders\n",
        "a = tf.placeholder(tf.float32)\n",
        "b = tf.placeholder(tf.float32)"
      ],
      "metadata": {
        "id": "m5YOesEppzKj"
      },
      "execution_count": 13,
      "outputs": []
    },
    {
      "cell_type": "code",
      "source": [
        "add_operations = a + b"
      ],
      "metadata": {
        "id": "YStcdzT9rEUS"
      },
      "execution_count": 14,
      "outputs": []
    },
    {
      "cell_type": "code",
      "source": [
        "multiply_operations = a * b"
      ],
      "metadata": {
        "id": "zBV0S-32raaG"
      },
      "execution_count": 15,
      "outputs": []
    },
    {
      "cell_type": "code",
      "source": [
        "# check the operations by passing array_a and array_b to the dict inside session\n",
        "sess.run(add_operations,feed_dict={a:array_a,b:array_b})"
      ],
      "metadata": {
        "colab": {
          "base_uri": "https://localhost:8080/"
        },
        "id": "J-2xYoZhohmV",
        "outputId": "7102bd80-292b-4b61-ef5e-c6eaec01971f"
      },
      "execution_count": 16,
      "outputs": [
        {
          "output_type": "execute_result",
          "data": {
            "text/plain": [
              "array([[151.56093 , 156.93356 , 103.25642 , 117.41811 , 168.27989 ],\n",
              "       [136.10165 ,  83.93553 , 142.01358 , 124.97872 ,  72.34983 ],\n",
              "       [114.16869 ,  94.161224,  77.30751 , 137.07474 , 154.883   ],\n",
              "       [ 97.7501  ,  83.01967 , 134.49838 , 146.91736 , 102.09473 ],\n",
              "       [123.49954 , 106.923096,  60.454185,  69.30327 ,  74.163994]],\n",
              "      dtype=float32)"
            ]
          },
          "metadata": {},
          "execution_count": 16
        }
      ]
    },
    {
      "cell_type": "markdown",
      "source": [
        "# You might see some steps repeatating, this is because the steps should be in sequential to get the code running. First declare array_a and array_b, then do the placeholders, then do the add, multiply operations. Finally run the session."
      ],
      "metadata": {
        "id": "6YGbIEZxrPRC"
      }
    },
    {
      "cell_type": "code",
      "source": [
        "# multiply operations\n",
        "sess.run(multiply_operations,feed_dict={a:array_a,b:array_b})"
      ],
      "metadata": {
        "colab": {
          "base_uri": "https://localhost:8080/"
        },
        "id": "yL_dqgI1r0LQ",
        "outputId": "4a752822-9a9f-4167-bc29-aca3c0c989d9"
      },
      "execution_count": 17,
      "outputs": [
        {
          "output_type": "execute_result",
          "data": {
            "text/plain": [
              "array([[5183.0254 , 5717.2656 ,  379.74658, 1787.9497 , 6845.516  ],\n",
              "       [4390.5117 , 1649.397  , 4701.1587 , 3806.0474 , 1040.6162 ],\n",
              "       [3257.1445 , 2090.706  , 1108.1315 , 4592.5703 , 5630.7954 ],\n",
              "       [1770.1521 ,  683.8259 , 4480.231  , 5396.0947 , 2090.5562 ],\n",
              "       [3762.6875 , 2856.7146 ,  316.99277,  800.6326 , 1066.2915 ]],\n",
              "      dtype=float32)"
            ]
          },
          "metadata": {},
          "execution_count": 17
        }
      ]
    },
    {
      "cell_type": "markdown",
      "source": [
        "# Creating the neural network"
      ],
      "metadata": {
        "id": "ZlrJL_B7tkc9"
      }
    },
    {
      "cell_type": "code",
      "source": [
        "features = 10\n",
        "dense_neurons = 3\n",
        "mini_batch = 5"
      ],
      "metadata": {
        "id": "uwl-qrWUtmix"
      },
      "execution_count": 18,
      "outputs": []
    },
    {
      "cell_type": "code",
      "source": [
        "x = tf.placeholder(tf.float32,(None,features))"
      ],
      "metadata": {
        "id": "7GIyCjCHtv6G"
      },
      "execution_count": 19,
      "outputs": []
    },
    {
      "cell_type": "code",
      "source": [
        "W = tf.Variable(tf.random_normal([features, dense_neurons]))"
      ],
      "metadata": {
        "id": "9Cvcz1zGvDTW"
      },
      "execution_count": 20,
      "outputs": []
    },
    {
      "cell_type": "code",
      "source": [
        "b = tf.Variable(tf.ones([dense_neurons]))"
      ],
      "metadata": {
        "id": "DieWTTnmv6iY"
      },
      "execution_count": 21,
      "outputs": []
    },
    {
      "cell_type": "code",
      "source": [
        "xW = tf.matmul(x,W)"
      ],
      "metadata": {
        "id": "fmNM03suxs4t"
      },
      "execution_count": 22,
      "outputs": []
    },
    {
      "cell_type": "code",
      "source": [
        "z = tf.add(xW , b)"
      ],
      "metadata": {
        "id": "gA4HOR7sx32G"
      },
      "execution_count": 23,
      "outputs": []
    },
    {
      "cell_type": "code",
      "source": [
        "z"
      ],
      "metadata": {
        "colab": {
          "base_uri": "https://localhost:8080/"
        },
        "id": "gAIvhSK6yTsj",
        "outputId": "27d950fe-e564-4cda-93ad-951315aa4497"
      },
      "execution_count": 24,
      "outputs": [
        {
          "output_type": "execute_result",
          "data": {
            "text/plain": [
              "<tf.Tensor 'Add_2:0' shape=(?, 3) dtype=float32>"
            ]
          },
          "metadata": {},
          "execution_count": 24
        }
      ]
    },
    {
      "cell_type": "code",
      "source": [
        "# activation function\n",
        "a = tf.sigmoid(z)"
      ],
      "metadata": {
        "id": "Psq3VR7Ex68O"
      },
      "execution_count": 25,
      "outputs": []
    },
    {
      "cell_type": "code",
      "source": [
        "a"
      ],
      "metadata": {
        "colab": {
          "base_uri": "https://localhost:8080/"
        },
        "id": "k6cXJQbVyPrm",
        "outputId": "01f674e0-2976-4d3c-f7c8-100f9f2a16e8"
      },
      "execution_count": 26,
      "outputs": [
        {
          "output_type": "execute_result",
          "data": {
            "text/plain": [
              "<tf.Tensor 'Sigmoid:0' shape=(?, 3) dtype=float32>"
            ]
          },
          "metadata": {},
          "execution_count": 26
        }
      ]
    },
    {
      "cell_type": "code",
      "source": [
        "# initialize variables\n",
        "init = tf.global_variables_initializer()"
      ],
      "metadata": {
        "id": "5LiT0eGGyVN6"
      },
      "execution_count": 27,
      "outputs": []
    },
    {
      "cell_type": "code",
      "source": [
        "sess.run(init)"
      ],
      "metadata": {
        "id": "Apl0KDHL0MHv"
      },
      "execution_count": 28,
      "outputs": []
    },
    {
      "cell_type": "code",
      "source": [
        "sess.run(a,feed_dict={x:np.random.random([mini_batch,features])})"
      ],
      "metadata": {
        "colab": {
          "base_uri": "https://localhost:8080/"
        },
        "id": "hs3PdR0lyrER",
        "outputId": "11a2ec18-cbbf-4b5d-97d6-d2510a9170ff"
      },
      "execution_count": 29,
      "outputs": [
        {
          "output_type": "execute_result",
          "data": {
            "text/plain": [
              "array([[0.75709796, 0.68604666, 0.7925379 ],\n",
              "       [0.5954416 , 0.34325397, 0.90322626],\n",
              "       [0.7511164 , 0.679881  , 0.5545577 ],\n",
              "       [0.8486431 , 0.5650736 , 0.8299191 ],\n",
              "       [0.7986552 , 0.6774122 , 0.85376686]], dtype=float32)"
            ]
          },
          "metadata": {},
          "execution_count": 29
        }
      ]
    },
    {
      "cell_type": "markdown",
      "source": [
        "# Cost function sample showing some linear regression example"
      ],
      "metadata": {
        "id": "3QUfOTKa2li8"
      }
    },
    {
      "cell_type": "code",
      "source": [
        "x_data = np.linspace(0,10,10) + np.random.uniform(-1,1,10)\n",
        "# Here we are creating a regression line with some noise"
      ],
      "metadata": {
        "id": "GHWndyiC2mzb"
      },
      "execution_count": 30,
      "outputs": []
    },
    {
      "cell_type": "code",
      "source": [
        "x_data"
      ],
      "metadata": {
        "colab": {
          "base_uri": "https://localhost:8080/"
        },
        "id": "X_0Z-DdE3Xlm",
        "outputId": "d2093270-5feb-4051-b592-b7db8bb7bd50"
      },
      "execution_count": 31,
      "outputs": [
        {
          "output_type": "execute_result",
          "data": {
            "text/plain": [
              "array([ 0.5690437 ,  1.48559519,  2.61237922,  3.32706637,  5.3951667 ,\n",
              "        4.9626108 ,  6.26470749,  7.23308956,  7.98522666, 10.80794271])"
            ]
          },
          "metadata": {},
          "execution_count": 31
        }
      ]
    },
    {
      "cell_type": "code",
      "source": [
        "y_label = np.linspace(0,10,10) + np.random.uniform(-1,1,10)"
      ],
      "metadata": {
        "id": "c6X4JzeX34-M"
      },
      "execution_count": 32,
      "outputs": []
    },
    {
      "cell_type": "code",
      "source": [
        "y_label"
      ],
      "metadata": {
        "colab": {
          "base_uri": "https://localhost:8080/"
        },
        "id": "v8IEO3KX38uL",
        "outputId": "93ae9ceb-a8c4-420a-ea65-908edb387749"
      },
      "execution_count": 33,
      "outputs": [
        {
          "output_type": "execute_result",
          "data": {
            "text/plain": [
              "array([-0.83979292,  1.32554365,  2.48391563,  3.0892172 ,  3.47092647,\n",
              "        6.23999438,  6.43654216,  7.88110947,  9.30996517, 10.3505577 ])"
            ]
          },
          "metadata": {},
          "execution_count": 33
        }
      ]
    },
    {
      "cell_type": "code",
      "source": [
        "plt.plot(x_data,y_label,'+')"
      ],
      "metadata": {
        "colab": {
          "base_uri": "https://localhost:8080/",
          "height": 282
        },
        "id": "fuf_utp-3_7W",
        "outputId": "f5f1b63b-7199-4c53-9a1b-76852b24c9c0"
      },
      "execution_count": 34,
      "outputs": [
        {
          "output_type": "execute_result",
          "data": {
            "text/plain": [
              "[<matplotlib.lines.Line2D at 0x7fe5dc094d50>]"
            ]
          },
          "metadata": {},
          "execution_count": 34
        },
        {
          "output_type": "display_data",
          "data": {
            "image/png": "[encoded data removed]",
            "text/plain": [
              "<Figure size 432x288 with 1 Axes>"
            ]
          },
          "metadata": {
            "needs_background": "light"
          }
        }
      ]
    },
    {
      "cell_type": "code",
      "source": [
        "# y = mx+b, this is the equation to be solved.\n",
        "m = tf.Variable(np.random.rand(1))\n",
        "b = tf.Variable(np.random.rand(1))"
      ],
      "metadata": {
        "id": "dN-KFu0Y4UXl"
      },
      "execution_count": 37,
      "outputs": []
    },
    {
      "cell_type": "code",
      "source": [
        "sess.run(m)"
      ],
      "metadata": {
        "colab": {
          "base_uri": "https://localhost:8080/"
        },
        "id": "GAs7GC-jjHYF",
        "outputId": "3c3cbf0a-600e-40d2-82b3-aca192e4856f"
      },
      "execution_count": 53,
      "outputs": [
        {
          "output_type": "execute_result",
          "data": {
            "text/plain": [
              "array([0.80546065])"
            ]
          },
          "metadata": {},
          "execution_count": 53
        }
      ]
    },
    {
      "cell_type": "code",
      "source": [
        "error = 0\n",
        "\n",
        "for x,y in zip(x_data,y_label):\n",
        "  y_hat = m*x + b\n",
        "\n",
        "  error += (y-y_hat)**2"
      ],
      "metadata": {
        "id": "tB8j19Uc4nxz"
      },
      "execution_count": 39,
      "outputs": []
    },
    {
      "cell_type": "code",
      "source": [
        "sess.run(error)"
      ],
      "metadata": {
        "colab": {
          "base_uri": "https://localhost:8080/"
        },
        "id": "KJAAvBVj6rBT",
        "outputId": "66e7f62b-77aa-49ca-f533-dd64294e2539"
      },
      "execution_count": 52,
      "outputs": [
        {
          "output_type": "execute_result",
          "data": {
            "text/plain": [
              "array([20.56959137])"
            ]
          },
          "metadata": {},
          "execution_count": 52
        }
      ]
    },
    {
      "cell_type": "markdown",
      "source": [
        "# use optimizer"
      ],
      "metadata": {
        "id": "cTocGaJL5dl9"
      }
    },
    {
      "cell_type": "code",
      "source": [
        "optimizer = tf.train.GradientDescentOptimizer(learning_rate = 0.001)"
      ],
      "metadata": {
        "id": "Nv3hmWIu5fLm"
      },
      "execution_count": 41,
      "outputs": []
    },
    {
      "cell_type": "code",
      "source": [
        "optimizer"
      ],
      "metadata": {
        "colab": {
          "base_uri": "https://localhost:8080/"
        },
        "id": "-KmI8oQL5tTs",
        "outputId": "1db532f3-ade9-42a6-90c5-f0ae577bc62f"
      },
      "execution_count": 42,
      "outputs": [
        {
          "output_type": "execute_result",
          "data": {
            "text/plain": [
              "<tensorflow.python.training.gradient_descent.GradientDescentOptimizer at 0x7fe5ce635590>"
            ]
          },
          "metadata": {},
          "execution_count": 42
        }
      ]
    },
    {
      "cell_type": "code",
      "source": [
        "train = optimizer.minimize(error)"
      ],
      "metadata": {
        "colab": {
          "base_uri": "https://localhost:8080/"
        },
        "id": "oncbHj4d5vi-",
        "outputId": "cb200116-40f3-47a9-a279-694b3d5c82de"
      },
      "execution_count": 43,
      "outputs": [
        {
          "output_type": "stream",
          "name": "stdout",
          "text": [
            "WARNING:tensorflow:From /tensorflow-1.15.2/python3.7/tensorflow_core/python/ops/math_grad.py:1375: where (from tensorflow.python.ops.array_ops) is deprecated and will be removed in a future version.\n",
            "Instructions for updating:\n",
            "Use tf.where in 2.0, which has the same broadcast rule as np.where\n"
          ]
        }
      ]
    },
    {
      "cell_type": "code",
      "source": [
        "# initialize variables\n",
        "init = tf.global_variables_initializer()"
      ],
      "metadata": {
        "id": "b7Wkvuec5y8X"
      },
      "execution_count": 44,
      "outputs": []
    },
    {
      "cell_type": "code",
      "source": [
        "sess.run(init)"
      ],
      "metadata": {
        "id": "5Gp5-3b0562i"
      },
      "execution_count": 45,
      "outputs": []
    },
    {
      "cell_type": "code",
      "source": [
        "training_steps = 1"
      ],
      "metadata": {
        "id": "ZADwn4nk58zs"
      },
      "execution_count": 46,
      "outputs": []
    },
    {
      "cell_type": "code",
      "source": [
        "for i in range(training_steps):\n",
        "  sess.run(train)"
      ],
      "metadata": {
        "id": "0Mrw90Yp6fz1"
      },
      "execution_count": 47,
      "outputs": []
    },
    {
      "cell_type": "code",
      "source": [
        "final_slope, final_intercept = sess.run([m,b])"
      ],
      "metadata": {
        "id": "jffg3eKF6qFY"
      },
      "execution_count": 48,
      "outputs": []
    },
    {
      "cell_type": "code",
      "source": [
        "\n",
        "final_slope"
      ],
      "metadata": {
        "colab": {
          "base_uri": "https://localhost:8080/"
        },
        "id": "zDM6w0w16_Ee",
        "outputId": "31169dec-a505-4b74-a39f-a3b39bc119bd"
      },
      "execution_count": 49,
      "outputs": [
        {
          "output_type": "execute_result",
          "data": {
            "text/plain": [
              "array([0.80546065])"
            ]
          },
          "metadata": {},
          "execution_count": 49
        }
      ]
    },
    {
      "cell_type": "code",
      "source": [
        "final_intercept"
      ],
      "metadata": {
        "colab": {
          "base_uri": "https://localhost:8080/"
        },
        "id": "a_xFUIHN7SA2",
        "outputId": "8726cdca-4d0a-4a15-ff39-a45fa0ea7b1e"
      },
      "execution_count": 50,
      "outputs": [
        {
          "output_type": "execute_result",
          "data": {
            "text/plain": [
              "array([0.29272186])"
            ]
          },
          "metadata": {},
          "execution_count": 50
        }
      ]
    },
    {
      "cell_type": "code",
      "source": [
        "# test the data\n",
        "\n",
        "x_test = np.linspace(-1,11,10)\n",
        "\n",
        "y_pred = final_slope * x_test + final_intercept\n",
        "\n",
        "plt.plot(x_test,y_pred,color=\"green\")\n",
        "plt.plot(x_data,y_label,color=\"red\")"
      ],
      "metadata": {
        "colab": {
          "base_uri": "https://localhost:8080/",
          "height": 282
        },
        "id": "sR1Qy9rF7VKf",
        "outputId": "db1e1235-30b7-4d60-e6e0-7c21e8911634"
      },
      "execution_count": 51,
      "outputs": [
        {
          "output_type": "execute_result",
          "data": {
            "text/plain": [
              "[<matplotlib.lines.Line2D at 0x7fe5ce4f0790>]"
            ]
          },
          "metadata": {},
          "execution_count": 51
        },
        {
          "output_type": "display_data",
          "data": {
            "image/png": "[encoded data removed]",
            "text/plain": [
              "<Figure size 432x288 with 1 Axes>"
            ]
          },
          "metadata": {
            "needs_background": "light"
          }
        }
      ]
    },
    {
      "cell_type": "markdown",
      "source": [
        "# observe the red line for original tarined data and green line for predicted data."
      ],
      "metadata": {
        "id": "f0cm-hd1mtRO"
      }
    },
    {
      "cell_type": "markdown",
      "source": [
        "# Error after predictions"
      ],
      "metadata": {
        "id": "CSTj9KExSW3b"
      }
    },
    {
      "cell_type": "code",
      "source": [
        "error2 = 0\n",
        "\n",
        "for x,y in zip(x_test,y_pred):\n",
        "  y_hat = final_slope*x + final_intercept\n",
        "\n",
        "  error2 += (y-y_hat)**2"
      ],
      "metadata": {
        "id": "-t5Bf8E-SZka"
      },
      "execution_count": 54,
      "outputs": []
    },
    {
      "cell_type": "code",
      "source": [
        "error2"
      ],
      "metadata": {
        "colab": {
          "base_uri": "https://localhost:8080/"
        },
        "id": "cdvqrEjFSmDT",
        "outputId": "7e60ab0e-6f0d-468d-b8df-9672afc75661"
      },
      "execution_count": 58,
      "outputs": [
        {
          "output_type": "execute_result",
          "data": {
            "text/plain": [
              "array([0.])"
            ]
          },
          "metadata": {},
          "execution_count": 58
        }
      ]
    }
  ]
}