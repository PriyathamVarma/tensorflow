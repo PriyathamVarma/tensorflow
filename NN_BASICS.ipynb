{
  "nbformat": 4,
  "nbformat_minor": 0,
  "metadata": {
    "colab": {
      "name": "NN-BASICS.ipynb",
      "provenance": [],
      "authorship_tag": "ABX9TyMW2n/cVtnNupK0aZfFDzX5",
      "include_colab_link": true
    },
    "kernelspec": {
      "name": "python3",
      "display_name": "Python 3"
    },
    "language_info": {
      "name": "python"
    }
  },
  "cells": [
    {
      "cell_type": "markdown",
      "metadata": {
        "id": "view-in-github",
        "colab_type": "text"
      },
      "source": [
        "<a href=\"https://colab.research.google.com/github/PriyathamVarma/tensorflow/blob/main/NN_BASICS.ipynb\" target=\"_parent\"><img src=\"https://colab.research.google.com/assets/colab-badge.svg\" alt=\"Open In Colab\"/></a>"
      ]
    },
    {
      "cell_type": "markdown",
      "source": [
        "# This is basics of neural networks along with an explanation on perceptrons, activation functions, cost functions, gradient descents and back propogation.\n"
      ],
      "metadata": {
        "id": "ojEGTo0zLr6V"
      }
    },
    {
      "cell_type": "code",
      "source": [
        "#Imports\n",
        "import random # for generating random numbers"
      ],
      "metadata": {
        "id": "w6xYip37gJlt"
      },
      "execution_count": 10,
      "outputs": []
    },
    {
      "cell_type": "code",
      "source": [
        "# Stage 1 : Normal perceptron with two inputs and one output\n",
        "# a function is created that takes two inputs and gives one output\n",
        "\n",
        "def perceptron_1(input_1,input_2):\n",
        "  return input_1+input_2\n"
      ],
      "metadata": {
        "id": "Eg0QMVn9QUew"
      },
      "execution_count": 7,
      "outputs": []
    },
    {
      "cell_type": "code",
      "source": [
        "perceptron_1(1,2)"
      ],
      "metadata": {
        "colab": {
          "base_uri": "https://localhost:8080/"
        },
        "id": "z-7ItSxGfGt9",
        "outputId": "bc537014-315f-495d-92bd-81aa274236e0"
      },
      "execution_count": 8,
      "outputs": [
        {
          "output_type": "execute_result",
          "data": {
            "text/plain": [
              "3"
            ]
          },
          "metadata": {},
          "execution_count": 8
        }
      ]
    },
    {
      "cell_type": "code",
      "source": [
        "# Stage 2: Normal perceptron with two inputs and one output and weights associated with it\n",
        "# consider random weights for this purpose\n",
        "# create a function which takes weights and inputs\n",
        "def perceptron_2(input_1,weight_1,input_2,weight_2):\n",
        "  input_1 = int(input_1)\n",
        "  input_2 = int(input_2)  \n",
        "  return input_1*weight_1+input_2*weight_2"
      ],
      "metadata": {
        "id": "hZdmELJQfb-h"
      },
      "execution_count": 29,
      "outputs": []
    },
    {
      "cell_type": "code",
      "source": [
        "w1 = round(random.random(),2)\n",
        "w2 = round(random.random(),2)\n",
        "input_1 = input(\"Enter input 1: \")\n",
        "input_2 = input(\"Enter input 2: \")\n",
        "perceptron_2(input_1,w1,input_2,w2)"
      ],
      "metadata": {
        "colab": {
          "base_uri": "https://localhost:8080/"
        },
        "id": "5fBzX594f9EA",
        "outputId": "9239daf2-b20b-4b36-d182-181766da5fb9"
      },
      "execution_count": 31,
      "outputs": [
        {
          "name": "stdout",
          "output_type": "stream",
          "text": [
            "Enter input 1: 1\n",
            "Enter input 2: 2\n"
          ]
        },
        {
          "output_type": "execute_result",
          "data": {
            "text/plain": [
              "2.42"
            ]
          },
          "metadata": {},
          "execution_count": 31
        }
      ]
    }
  ]
}