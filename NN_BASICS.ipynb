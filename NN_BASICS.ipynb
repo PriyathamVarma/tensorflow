{
  "nbformat": 4,
  "nbformat_minor": 0,
  "metadata": {
    "colab": {
      "name": "NN-BASICS.ipynb",
      "provenance": [],
      "authorship_tag": "ABX9TyMDJpeue5o9HvaQcu3cnvUR",
      "include_colab_link": true
    },
    "kernelspec": {
      "name": "python3",
      "display_name": "Python 3"
    },
    "language_info": {
      "name": "python"
    }
  },
  "cells": [
    {
      "cell_type": "markdown",
      "metadata": {
        "id": "view-in-github",
        "colab_type": "text"
      },
      "source": [
        "<a href=\"https://colab.research.google.com/github/PriyathamVarma/tensorflow/blob/main/NN_BASICS.ipynb\" target=\"_parent\"><img src=\"https://colab.research.google.com/assets/colab-badge.svg\" alt=\"Open In Colab\"/></a>"
      ]
    },
    {
      "cell_type": "markdown",
      "source": [
        "# This is basics of neural networks along with an explanation on perceptrons, activation functions, cost functions, gradient descents and back propogation.\n"
      ],
      "metadata": {
        "id": "ojEGTo0zLr6V"
      }
    },
    {
      "cell_type": "code",
      "source": [
        "#Imports\n",
        "import random # for generating random numbers\n",
        "import math   # for exponential"
      ],
      "metadata": {
        "id": "w6xYip37gJlt"
      },
      "execution_count": 67,
      "outputs": []
    },
    {
      "cell_type": "code",
      "source": [
        "# Stage 1 : Normal perceptron with two inputs and one output\n",
        "# a function is created that takes two inputs and gives one output\n",
        "\n",
        "def perceptron_1(input_1,input_2):\n",
        "  return input_1+input_2\n"
      ],
      "metadata": {
        "id": "Eg0QMVn9QUew"
      },
      "execution_count": 7,
      "outputs": []
    },
    {
      "cell_type": "code",
      "source": [
        "perceptron_1(1,2)"
      ],
      "metadata": {
        "colab": {
          "base_uri": "https://localhost:8080/"
        },
        "id": "z-7ItSxGfGt9",
        "outputId": "bc537014-315f-495d-92bd-81aa274236e0"
      },
      "execution_count": 8,
      "outputs": [
        {
          "output_type": "execute_result",
          "data": {
            "text/plain": [
              "3"
            ]
          },
          "metadata": {},
          "execution_count": 8
        }
      ]
    },
    {
      "cell_type": "code",
      "source": [
        "# Stage 2: Normal perceptron with two inputs and one output and weights associated with it\n",
        "# consider random weights for this purpose\n",
        "# create a function which takes weights and inputs\n",
        "def perceptron_2(input_1,weight_1,input_2,weight_2):\n",
        "  input_1 = int(input_1)\n",
        "  input_2 = int(input_2)  \n",
        "  return input_1*weight_1+input_2*weight_2"
      ],
      "metadata": {
        "id": "hZdmELJQfb-h"
      },
      "execution_count": 29,
      "outputs": []
    },
    {
      "cell_type": "code",
      "source": [
        "w1 = round(random.random(),2)\n",
        "w2 = round(random.random(),2)\n",
        "input_1 = input(\"Enter input 1: \")\n",
        "input_2 = input(\"Enter input 2: \")\n",
        "perceptron_2(input_1,w1,input_2,w2)"
      ],
      "metadata": {
        "colab": {
          "base_uri": "https://localhost:8080/"
        },
        "id": "5fBzX594f9EA",
        "outputId": "9239daf2-b20b-4b36-d182-181766da5fb9"
      },
      "execution_count": 31,
      "outputs": [
        {
          "name": "stdout",
          "output_type": "stream",
          "text": [
            "Enter input 1: 1\n",
            "Enter input 2: 2\n"
          ]
        },
        {
          "output_type": "execute_result",
          "data": {
            "text/plain": [
              "2.42"
            ]
          },
          "metadata": {},
          "execution_count": 31
        }
      ]
    },
    {
      "cell_type": "code",
      "source": [
        "# Stage 2: Normal perceptron with two inputs and one output and weights associated with it along with bias\n",
        "# consider random weights for this purpose and bias which should be fixed\n",
        "# create a function which takes weights and inputs and single bias value\n",
        "def perceptron_2(input_1,weight_1,input_2,weight_2,bias):\n",
        "  input_1 = int(input_1)\n",
        "  input_2 = int(input_2)  \n",
        "  return (input_1*weight_1+input_2*weight_2)+bias"
      ],
      "metadata": {
        "id": "kWsH6wN4h5lk"
      },
      "execution_count": 32,
      "outputs": []
    },
    {
      "cell_type": "code",
      "source": [
        "bias = 1\n",
        "w1 = round(random.random(),2)\n",
        "w2 = round(random.random(),2)\n",
        "input_1 = input(\"Enter input 1: \")\n",
        "input_2 = input(\"Enter input 2: \")\n",
        "perceptron_2(input_1,w1,input_2,w2,bias)"
      ],
      "metadata": {
        "colab": {
          "base_uri": "https://localhost:8080/"
        },
        "id": "Cm_YP1p9iJzE",
        "outputId": "fca02511-a331-4035-c30d-c6ed58f79063"
      },
      "execution_count": 34,
      "outputs": [
        {
          "name": "stdout",
          "output_type": "stream",
          "text": [
            "Enter input 1: 0\n",
            "Enter input 2: 0\n"
          ]
        },
        {
          "output_type": "execute_result",
          "data": {
            "text/plain": [
              "1.0"
            ]
          },
          "metadata": {},
          "execution_count": 34
        }
      ]
    },
    {
      "cell_type": "code",
      "source": [
        "# Here instead of two what if we consider multiple inputs and multiple weights\n",
        "# For this purpose we will use args concept and lists\n",
        "# Create two lists where one list takes all input values and other list takes all weights\n",
        "inputs_list = []\n",
        "weights_list = []\n",
        "\n",
        "# create a for loop which can take 100 inputs value(max)\n",
        "for i in range(0,100):\n",
        "  print(\"Press q for quit\")\n",
        "  input_value = input(f\"Enter input {i} : \")\n",
        "  if input_value != 'q':\n",
        "    input_value = int(input_value)\n",
        "    inputs_list.append(input_value)\n",
        "    weights_value = round(random.random(),2)\n",
        "    weights_list.append(weights_value)\n",
        "  else:\n",
        "    break  \n",
        "\n",
        "\n"
      ],
      "metadata": {
        "colab": {
          "base_uri": "https://localhost:8080/"
        },
        "id": "iFmK5IWoi-Rk",
        "outputId": "b905d8a2-c3a0-4ca4-a282-8c037b881f3a"
      },
      "execution_count": 44,
      "outputs": [
        {
          "name": "stdout",
          "output_type": "stream",
          "text": [
            "Press q for quit\n",
            "Enter input 0 : 1\n",
            "Press q for quit\n",
            "Enter input 1 : 1\n",
            "Press q for quit\n",
            "Enter input 2 : 1\n",
            "Press q for quit\n",
            "Enter input 3 : 2\n",
            "Press q for quit\n",
            "Enter input 4 : 0\n",
            "Press q for quit\n",
            "Enter input 5 : q\n"
          ]
        }
      ]
    },
    {
      "cell_type": "code",
      "source": [
        "# inputs value\n",
        "inputs_list"
      ],
      "metadata": {
        "colab": {
          "base_uri": "https://localhost:8080/"
        },
        "id": "k4KQdArUlDjH",
        "outputId": "938e4649-25cd-44b2-97fe-83a056a9a6ff"
      },
      "execution_count": 45,
      "outputs": [
        {
          "output_type": "execute_result",
          "data": {
            "text/plain": [
              "[1, 1, 1, 2, 0]"
            ]
          },
          "metadata": {},
          "execution_count": 45
        }
      ]
    },
    {
      "cell_type": "code",
      "source": [
        "#weights value\n",
        "weights_list"
      ],
      "metadata": {
        "colab": {
          "base_uri": "https://localhost:8080/"
        },
        "id": "5h08jyvplIjM",
        "outputId": "4f86cd91-d9d9-4690-87a9-570a3363bb56"
      },
      "execution_count": 46,
      "outputs": [
        {
          "output_type": "execute_result",
          "data": {
            "text/plain": [
              "[0.04, 0.11, 0.55, 0.56, 0.08]"
            ]
          },
          "metadata": {},
          "execution_count": 46
        }
      ]
    },
    {
      "cell_type": "code",
      "source": [
        "# pass this two list into a function which takes the values\n",
        "def perceptron_3(inputs_list,weights_list,bias=1):\n",
        "  final_list = []\n",
        "  for i in range(0,len(inputs_list)):\n",
        "    wx = inputs_list[i] * weights_list[i]\n",
        "    final_list.append(wx)\n",
        "\n",
        "  z = sum(final_list) + bias  \n",
        "  \n",
        "\n",
        "  if z > 1:\n",
        "    print(\"1\")\n",
        "  else:\n",
        "    print(\"0\") \n",
        "\n",
        "  return z   \n"
      ],
      "metadata": {
        "id": "LtYnG4_tlMSJ"
      },
      "execution_count": 55,
      "outputs": []
    },
    {
      "cell_type": "code",
      "source": [
        "# passing lists into the function\n",
        "perceptron_3(inputs_list,weights_list)"
      ],
      "metadata": {
        "colab": {
          "base_uri": "https://localhost:8080/"
        },
        "id": "lGdUzzB-mHkE",
        "outputId": "f9428628-4e48-40e0-ae3d-ec16f922d9f4"
      },
      "execution_count": 56,
      "outputs": [
        {
          "output_type": "stream",
          "name": "stdout",
          "text": [
            "1\n"
          ]
        },
        {
          "output_type": "execute_result",
          "data": {
            "text/plain": [
              "2.8200000000000003"
            ]
          },
          "metadata": {},
          "execution_count": 56
        }
      ]
    },
    {
      "cell_type": "markdown",
      "source": [
        "# Uptill now we get the result as 0 or 1\n",
        "\n",
        "> Let us use sigmoid function instead of normal wx + bias\n",
        "\n"
      ],
      "metadata": {
        "id": "gqfKCZ9KmkZu"
      }
    },
    {
      "cell_type": "code",
      "source": [
        "# pass this two list into a function which takes the values for sigmoid\n",
        "def perceptron_4(inputs_list,weights_list,bias=1):\n",
        "  final_list = []\n",
        "  for i in range(0,len(inputs_list)):\n",
        "    wx = inputs_list[i] * weights_list[i]\n",
        "    final_list.append(wx)\n",
        "\n",
        "  z = sum(final_list) + bias \n",
        "\n",
        "  sigmoid = 1 / (1 + math.exp(-z))\n",
        "  \n",
        "\n",
        "  if sigmoid > 1:\n",
        "    print(\"1\")\n",
        "  else:\n",
        "    print(\"0\") \n",
        "  print(\"z value is \",z)  \n",
        "\n",
        "  print(\"Sigmoid function value is \",sigmoid)\n",
        "  "
      ],
      "metadata": {
        "id": "0Mk36Th_nUuu"
      },
      "execution_count": 94,
      "outputs": []
    },
    {
      "cell_type": "code",
      "source": [
        "# passing lists into the function\n",
        "perceptron_4(inputs_list,weights_list)"
      ],
      "metadata": {
        "colab": {
          "base_uri": "https://localhost:8080/"
        },
        "id": "W5waeuvQnpSU",
        "outputId": "7149b74e-fff6-47e5-aba7-ae925f22bc87"
      },
      "execution_count": 95,
      "outputs": [
        {
          "output_type": "stream",
          "name": "stdout",
          "text": [
            "0\n",
            "z value is  2.8200000000000003\n",
            "Sigmoid function value is  0.9437470664268327\n"
          ]
        }
      ]
    },
    {
      "cell_type": "markdown",
      "source": [
        "# instead of sigmoid function we can also use other functions - hyperbolic functions."
      ],
      "metadata": {
        "id": "YMj_g7VjvkuL"
      }
    }
  ]
}